{
 "metadata": {
  "language_info": {
   "codemirror_mode": {
    "name": "ipython",
    "version": 3
   },
   "file_extension": ".py",
   "mimetype": "text/x-python",
   "name": "python",
   "nbconvert_exporter": "python",
   "pygments_lexer": "ipython3",
   "version": "3.8.5"
  },
  "orig_nbformat": 2,
  "kernelspec": {
   "name": "python3",
   "display_name": "Python 3.8.5 64-bit ('tfmenv': conda)",
   "metadata": {
    "interpreter": {
     "hash": "6c3a022458a9d28f1f13f6e9547c058823402d1db5751f0a3ba349195788d441"
    }
   }
  }
 },
 "nbformat": 4,
 "nbformat_minor": 2,
 "cells": [
  {
   "cell_type": "code",
   "execution_count": 1,
   "metadata": {},
   "outputs": [],
   "source": [
    "import numpy as np\n",
    "from PIL import Image\n",
    "from PIL import ImageOps\n",
    "import sys\n",
    "import os\n",
    "import requests\n",
    "from io import BytesIO\n",
    "\n",
    "from keras.models import load_model"
   ]
  },
  {
   "cell_type": "code",
   "execution_count": 2,
   "metadata": {},
   "outputs": [],
   "source": [
    "def image_to_array(image_path):\n",
    "\n",
    "    im = Image.open(image_path)\n",
    "    return np.array(im, dtype=float)"
   ]
  },
  {
   "cell_type": "code",
   "execution_count": 3,
   "metadata": {},
   "outputs": [],
   "source": [
    "def label_decoder(key):\n",
    "    label_mapping = {\n",
    "        \"1\" : \"aca\",\n",
    "        \"2\" : \"n\",\n",
    "        \"3\" : \"scc\",\n",
    "    }\n",
    "    return label_mapping[key]"
   ]
  },
  {
   "cell_type": "code",
   "execution_count": 4,
   "metadata": {},
   "outputs": [],
   "source": [
    "def resize(image_name, dirPath):\n",
    "    \n",
    "    image_path = folderPath + image_name\n",
    "    im = Image.open(image_path)\n",
    "        \n",
    "    desired_size = 128\n",
    "    old_size = im.size  # old_size[0] is in (width, height) format\n",
    "\n",
    "    ratio = float(desired_size)/max(old_size)\n",
    "    new_size = tuple([int(x*ratio) for x in old_size])\n",
    "\n",
    "    im = im.resize(new_size, Image.ANTIALIAS)\n",
    "    \n",
    "    # create a new image and paste the resized on it\n",
    "    new_im = Image.new(\"RGB\", (desired_size, desired_size))\n",
    "    new_im.paste(im, ((desired_size-new_size[0])//2,\n",
    "                        (desired_size-new_size[1])//2))\n",
    "\n",
    "    delta_w = desired_size - new_size[0]\n",
    "    delta_h = desired_size - new_size[1]\n",
    "    padding = (delta_w//2, delta_h//2, delta_w-(delta_w//2), delta_h-(delta_h//2))\n",
    "    new_im = ImageOps.expand(im, padding)\n",
    "\n",
    "    filename, file_extension = os.path.splitext(image_name)\n",
    "    new_filename = filename + \"_resized.jpeg\"\n",
    "    new_im.save(folderPath + new_filename, \"JPEG\")\n",
    "    \n",
    "    return new_filename"
   ]
  },
  {
   "cell_type": "code",
   "execution_count": 5,
   "metadata": {},
   "outputs": [],
   "source": [
    "def equalize_image(image_name, dirPath): \n",
    "    \n",
    "    image_path = folderPath+ image_name\n",
    "    im = Image.open(image_path)\n",
    "    \n",
    "\n",
    "    im_out = ImageOps.equalize(im)\n",
    "    \n",
    "    filename, file_extension = os.path.splitext(image_name) \n",
    "    new_filename = filename + \"_equalized.jpeg\"\n",
    "    im_out.save(folderPath + new_filename, \"JPEG\")\n",
    "    \n",
    "    return new_filename"
   ]
  },
  {
   "cell_type": "code",
   "execution_count": 6,
   "metadata": {},
   "outputs": [],
   "source": [
    "def run_model(data):\n",
    "\n",
    "    \n",
    "    loaded_model = load_model('gear_classifier_2.model')\n",
    "\n",
    "    result_array = loaded_model.predict(data).tolist()[0]\n",
    "    \n",
    "    index = result_array.index(max(result_array)) + 1\n",
    "    \n",
    "    predicted_label = label_decoder(str(index))\n",
    "    \n",
    "    return predicted_label"
   ]
  },
  {
   "cell_type": "code",
   "execution_count": 7,
   "metadata": {},
   "outputs": [
    {
     "output_type": "stream",
     "name": "stdout",
     "text": [
      "Esta imagen pertenece a un tumor del tipo n con una precisión de 58.00 sobre 100.\n"
     ]
    }
   ],
   "source": [
    "    from keras.utils import normalize\n",
    "    import tensorflow as tf\n",
    "\n",
    "    preprocessed_img_path = '/Users/barnatasa/Desktop/Màster_Bioinformàtica/TFM/lung_colon_image_set/train/n/lungn2_resized_equalized.jpeg'\n",
    "    numpy_data = image_to_array(preprocessed_img_path)\n",
    "    numpy_data = numpy_data.reshape(1, 3, 128, 128)\n",
    "    numpy_data = numpy_data.astype('float32')\n",
    "    numpy_data = normalize(numpy_data)\n",
    "    result_label = run_model(numpy_data)\n",
    "    model = load_model('gear_classifier_2.model')\n",
    "    predictions = model.predict(numpy_data)\n",
    "    score = tf.nn.softmax(predictions)\n",
    "    message = \"Esta imagen pertenece a un tumor del tipo {} con una precisión de {:.2f} sobre 100.\"\n",
    "    print(message.format(result_label, round(100 * np.max(score))))\n"
   ]
  }
 ]
}