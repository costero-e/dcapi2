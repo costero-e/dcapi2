{
 "metadata": {
  "language_info": {
   "codemirror_mode": {
    "name": "ipython",
    "version": 3
   },
   "file_extension": ".py",
   "mimetype": "text/x-python",
   "name": "python",
   "nbconvert_exporter": "python",
   "pygments_lexer": "ipython3",
   "version": "3.8.5"
  },
  "orig_nbformat": 2,
  "kernelspec": {
   "name": "python3",
   "display_name": "Python 3.8.5 64-bit ('tfmenv': conda)",
   "metadata": {
    "interpreter": {
     "hash": "6c3a022458a9d28f1f13f6e9547c058823402d1db5751f0a3ba349195788d441"
    }
   }
  }
 },
 "nbformat": 4,
 "nbformat_minor": 2,
 "cells": [
  {
   "cell_type": "code",
   "execution_count": 1,
   "metadata": {},
   "outputs": [],
   "source": [
    "import numpy as np\n",
    "import matplotlib.pyplot as plt\n",
    "import matplotlib.image as mpimg\n",
    "from PIL import Image\n",
    "from PIL import ImageOps\n",
    "import urllib3\n",
    "import sys\n",
    "import os\n",
    "%matplotlib inline"
   ]
  },
  {
   "cell_type": "code",
   "execution_count": 2,
   "metadata": {},
   "outputs": [],
   "source": [
    "\n",
    "def resize(image_name, dirPath):\n",
    "    \n",
    "    image_path = folderPath + image_name\n",
    "    im = Image.open(image_path)\n",
    "        \n",
    "    desired_size = 128\n",
    "    old_size = im.size  \n",
    "\n",
    "    ratio = float(desired_size)/max(old_size)\n",
    "    new_size = tuple([int(x*ratio) for x in old_size])\n",
    "\n",
    "    im = im.resize(new_size, Image.ANTIALIAS)\n",
    "    \n",
    "    new_im = Image.new(\"RGB\", (desired_size, desired_size))\n",
    "    new_im.paste(im, ((desired_size-new_size[0])//2,\n",
    "                        (desired_size-new_size[1])//2))\n",
    "\n",
    "    delta_w = desired_size - new_size[0]\n",
    "    delta_h = desired_size - new_size[1]\n",
    "    padding = (delta_w//2, delta_h//2, delta_w-(delta_w//2), delta_h-(delta_h//2))\n",
    "    new_im = ImageOps.expand(im, padding)\n",
    "\n",
    "    filename, file_extension = os.path.splitext(image_name)\n",
    "    new_filename = filename + \"_resized.jpeg\"\n",
    "    new_im.save(folderPath + new_filename, \"JPEG\")\n",
    "    \n",
    "    return new_filename"
   ]
  },
  {
   "cell_type": "code",
   "execution_count": 3,
   "metadata": {},
   "outputs": [],
   "source": [
    "\n",
    "def equalize_image(image_name, dirPath): \n",
    "    \n",
    "    image_path = folderPath+ image_name\n",
    "    im = Image.open(image_path)\n",
    "       \n",
    "    im_out = ImageOps.equalize(im)\n",
    "    \n",
    "    filename, file_extension = os.path.splitext(image_name) \n",
    "    new_filename = filename + \"_equalized.jpeg\"\n",
    "    im_out.save(folderPath + new_filename, \"JPEG\")\n",
    "    \n",
    "    return new_filename"
   ]
  },
  {
   "cell_type": "code",
   "execution_count": 44,
   "metadata": {
    "tags": [
     "outputPrepend"
    ]
   },
   "outputs": [
    {
     "output_type": "stream",
     "name": "stdout",
     "text": [
      "sized.jpeg : [Errno 2] No such file or directory: 'lungscc1548_resized.jpeg'\n",
      "Exception occured when removing lungscc171_resized.jpeg : [Errno 2] No such file or directory: 'lungscc171_resized.jpeg'\n",
      "Exception occured when removing lungscc1661_resized.jpeg : [Errno 2] No such file or directory: 'lungscc1661_resized.jpeg'\n",
      "Exception occured when removing lungscc521_resized.jpeg : [Errno 2] No such file or directory: 'lungscc521_resized.jpeg'\n",
      "Exception occured when removing lungscc1231_resized.jpeg : [Errno 2] No such file or directory: 'lungscc1231_resized.jpeg'\n",
      "Exception occured when removing lungscc872_resized.jpeg : [Errno 2] No such file or directory: 'lungscc872_resized.jpeg'\n",
      "Exception occured when removing lungscc937_resized.jpeg : [Errno 2] No such file or directory: 'lungscc937_resized.jpeg'\n",
      "Exception occured when removing lungscc1724_resized.jpeg : [Errno 2] No such file or directory: 'lungscc1724_resized.jpeg'\n",
      "Exception occured when removing lungscc1374_resized.jpeg : [Errno 2] No such file or directory: 'lungscc1374_resized.jpeg'\n",
      "Exception occured when removing lungscc464_resized.jpeg : [Errno 2] No such file or directory: 'lungscc464_resized.jpeg'\n",
      "Exception occured when removing lungscc78_resized.jpeg : [Errno 2] No such file or directory: 'lungscc78_resized.jpeg'\n",
      "Exception occured when removing lungscc1909_resized.jpeg : [Errno 2] No such file or directory: 'lungscc1909_resized.jpeg'\n",
      "Exception occured when removing lungscc97_resized.jpeg : [Errno 2] No such file or directory: 'lungscc97_resized.jpeg'\n",
      "Exception occured when removing lungscc825_resized.jpeg : [Errno 2] No such file or directory: 'lungscc825_resized.jpeg'\n",
      "Exception occured when removing lungscc1266_resized.jpeg : [Errno 2] No such file or directory: 'lungscc1266_resized.jpeg'\n",
      "Exception occured when removing lungscc576_resized.jpeg : [Errno 2] No such file or directory: 'lungscc576_resized.jpeg'\n",
      "Exception occured when removing lungscc1636_resized.jpeg : [Errno 2] No such file or directory: 'lungscc1636_resized.jpeg'\n",
      "Exception occured when removing lungscc126_resized.jpeg : [Errno 2] No such file or directory: 'lungscc126_resized.jpeg'\n",
      "Exception occured when removing lungscc433_resized.jpeg : [Errno 2] No such file or directory: 'lungscc433_resized.jpeg'\n",
      "Exception occured when removing lungscc1323_resized.jpeg : [Errno 2] No such file or directory: 'lungscc1323_resized.jpeg'\n",
      "Exception occured when removing lungscc1289_resized.jpeg : [Errno 2] No such file or directory: 'lungscc1289_resized.jpeg'\n",
      "Exception occured when removing lungscc599_resized.jpeg : [Errno 2] No such file or directory: 'lungscc599_resized.jpeg'\n",
      "Exception occured when removing lungscc1773_resized.jpeg : [Errno 2] No such file or directory: 'lungscc1773_resized.jpeg'\n",
      "Exception occured when removing lungscc960_resized.jpeg : [Errno 2] No such file or directory: 'lungscc960_resized.jpeg'\n",
      "Exception occured when removing lungscc917_resized.jpeg : [Errno 2] No such file or directory: 'lungscc917_resized.jpeg'\n",
      "Exception occured when removing lungscc1704_resized.jpeg : [Errno 2] No such file or directory: 'lungscc1704_resized.jpeg'\n",
      "Exception occured when removing lungscc1354_resized.jpeg : [Errno 2] No such file or directory: 'lungscc1354_resized.jpeg'\n",
      "Exception occured when removing lungscc444_resized.jpeg : [Errno 2] No such file or directory: 'lungscc444_resized.jpeg'\n",
      "Exception occured when removing lungscc151_resized.jpeg : [Errno 2] No such file or directory: 'lungscc151_resized.jpeg'\n",
      "Exception occured when removing lungscc1641_resized.jpeg : [Errno 2] No such file or directory: 'lungscc1641_resized.jpeg'\n",
      "Exception occured when removing lungscc501_resized.jpeg : [Errno 2] No such file or directory: 'lungscc501_resized.jpeg'\n",
      "Exception occured when removing lungscc1211_resized.jpeg : [Errno 2] No such file or directory: 'lungscc1211_resized.jpeg'\n",
      "Exception occured when removing lungscc852_resized.jpeg : [Errno 2] No such file or directory: 'lungscc852_resized.jpeg'\n",
      "Exception occured when removing lungscc628_resized.jpeg : [Errno 2] No such file or directory: 'lungscc628_resized.jpeg'\n",
      "Exception occured when removing lungscc1138_resized.jpeg : [Errno 2] No such file or directory: 'lungscc1138_resized.jpeg'\n",
      "Exception occured when removing lungscc1092_resized.jpeg : [Errno 2] No such file or directory: 'lungscc1092_resized.jpeg'\n",
      "Exception occured when removing lungscc278_resized.jpeg : [Errno 2] No such file or directory: 'lungscc278_resized.jpeg'\n",
      "Exception occured when removing lungscc1568_resized.jpeg : [Errno 2] No such file or directory: 'lungscc1568_resized.jpeg'\n",
      "Exception occured when removing lungscc782_resized.jpeg : [Errno 2] No such file or directory: 'lungscc782_resized.jpeg'\n",
      "Exception occured when removing lungscc1991_resized.jpeg : [Errno 2] No such file or directory: 'lungscc1991_resized.jpeg'\n",
      "Exception occured when removing lungscc297_resized.jpeg : [Errno 2] No such file or directory: 'lungscc297_resized.jpeg'\n",
      "Exception occured when removing lungscc1587_resized.jpeg : [Errno 2] No such file or directory: 'lungscc1587_resized.jpeg'\n",
      "Exception occured when removing lungscc413_resized.jpeg : [Errno 2] No such file or directory: 'lungscc413_resized.jpeg'\n",
      "Exception occured when removing lungscc1303_resized.jpeg : [Errno 2] No such file or directory: 'lungscc1303_resized.jpeg'\n",
      "Exception occured when removing lungscc1753_resized.jpeg : [Errno 2] No such file or directory: 'lungscc1753_resized.jpeg'\n",
      "Exception occured when removing lungscc940_resized.jpeg : [Errno 2] No such file or directory: 'lungscc940_resized.jpeg'\n",
      "Exception occured when removing lungscc805_resized.jpeg : [Errno 2] No such file or directory: 'lungscc805_resized.jpeg'\n",
      "Exception occured when removing lungscc1246_resized.jpeg : [Errno 2] No such file or directory: 'lungscc1246_resized.jpeg'\n",
      "Exception occured when removing lungscc556_resized.jpeg : [Errno 2] No such file or directory: 'lungscc556_resized.jpeg'\n",
      "Exception occured when removing lungscc1616_resized.jpeg : [Errno 2] No such file or directory: 'lungscc1616_resized.jpeg'\n",
      "Exception occured when removing lungscc106_resized.jpeg : [Errno 2] No such file or directory: 'lungscc106_resized.jpeg'\n",
      "Exception occured when removing lungscc385_resized.jpeg : [Errno 2] No such file or directory: 'lungscc385_resized.jpeg'\n",
      "Exception occured when removing lungscc1495_resized.jpeg : [Errno 2] No such file or directory: 'lungscc1495_resized.jpeg'\n",
      "Exception occured when removing lungscc1180_resized.jpeg : [Errno 2] No such file or directory: 'lungscc1180_resized.jpeg'\n",
      "Exception occured when removing lungscc690_resized.jpeg : [Errno 2] No such file or directory: 'lungscc690_resized.jpeg'\n",
      "Exception occured when removing lungscc1883_resized.jpeg : [Errno 2] No such file or directory: 'lungscc1883_resized.jpeg'\n",
      "Exception occured when removing lungscc58_resized.jpeg : [Errno 2] No such file or directory: 'lungscc58_resized.jpeg'\n",
      "Exception occured when removing lungscc1929_resized.jpeg : [Errno 2] No such file or directory: 'lungscc1929_resized.jpeg'\n",
      "Exception occured when removing lungscc956_resized.jpeg : [Errno 2] No such file or directory: 'lungscc956_resized.jpeg'\n",
      "Exception occured when removing lungscc1745_resized.jpeg : [Errno 2] No such file or directory: 'lungscc1745_resized.jpeg'\n",
      "Exception occured when removing lungscc1315_resized.jpeg : [Errno 2] No such file or directory: 'lungscc1315_resized.jpeg'\n",
      "Exception occured when removing lungscc405_resized.jpeg : [Errno 2] No such file or directory: 'lungscc405_resized.jpeg'\n",
      "Current progress : 5900/6002\n",
      "Exception occured when removing lungscc110_resized.jpeg : [Errno 2] No such file or directory: 'lungscc110_resized.jpeg'\n",
      "Exception occured when removing lungscc1600_resized.jpeg : [Errno 2] No such file or directory: 'lungscc1600_resized.jpeg'\n",
      "Exception occured when removing lungscc540_resized.jpeg : [Errno 2] No such file or directory: 'lungscc540_resized.jpeg'\n",
      "Exception occured when removing lungscc1250_resized.jpeg : [Errno 2] No such file or directory: 'lungscc1250_resized.jpeg'\n",
      "Exception occured when removing lungscc813_resized.jpeg : [Errno 2] No such file or directory: 'lungscc813_resized.jpeg'\n",
      "Exception occured when removing lungscc669_resized.jpeg : [Errno 2] No such file or directory: 'lungscc669_resized.jpeg'\n",
      "Exception occured when removing lungscc1483_resized.jpeg : [Errno 2] No such file or directory: 'lungscc1483_resized.jpeg'\n",
      "Exception occured when removing lungscc393_resized.jpeg : [Errno 2] No such file or directory: 'lungscc393_resized.jpeg'\n",
      "Exception occured when removing lungscc1179_resized.jpeg : [Errno 2] No such file or directory: 'lungscc1179_resized.jpeg'\n",
      "Exception occured when removing lungscc239_resized.jpeg : [Errno 2] No such file or directory: 'lungscc239_resized.jpeg'\n",
      "Exception occured when removing lungscc1529_resized.jpeg : [Errno 2] No such file or directory: 'lungscc1529_resized.jpeg'\n",
      "Exception occured when removing lungscc1895_resized.jpeg : [Errno 2] No such file or directory: 'lungscc1895_resized.jpeg'\n",
      "Exception occured when removing lungscc686_resized.jpeg : [Errno 2] No such file or directory: 'lungscc686_resized.jpeg'\n",
      "Exception occured when removing lungscc1196_resized.jpeg : [Errno 2] No such file or directory: 'lungscc1196_resized.jpeg'\n",
      "Exception occured when removing lungscc452_resized.jpeg : [Errno 2] No such file or directory: 'lungscc452_resized.jpeg'\n",
      "Exception occured when removing lungscc1342_resized.jpeg : [Errno 2] No such file or directory: 'lungscc1342_resized.jpeg'\n",
      "Exception occured when removing lungscc1712_resized.jpeg : [Errno 2] No such file or directory: 'lungscc1712_resized.jpeg'\n",
      "Exception occured when removing lungscc901_resized.jpeg : [Errno 2] No such file or directory: 'lungscc901_resized.jpeg'\n",
      "Exception occured when removing lungscc844_resized.jpeg : [Errno 2] No such file or directory: 'lungscc844_resized.jpeg'\n",
      "Exception occured when removing lungscc1207_resized.jpeg : [Errno 2] No such file or directory: 'lungscc1207_resized.jpeg'\n",
      "Exception occured when removing lungscc517_resized.jpeg : [Errno 2] No such file or directory: 'lungscc517_resized.jpeg'\n",
      "Exception occured when removing lungscc1657_resized.jpeg : [Errno 2] No such file or directory: 'lungscc1657_resized.jpeg'\n",
      "Exception occured when removing lungscc147_resized.jpeg : [Errno 2] No such file or directory: 'lungscc147_resized.jpeg'\n",
      "Exception occured when removing lungscc1987_resized.jpeg : [Errno 2] No such file or directory: 'lungscc1987_resized.jpeg'\n",
      "Exception occured when removing lungscc794_resized.jpeg : [Errno 2] No such file or directory: 'lungscc794_resized.jpeg'\n",
      "Exception occured when removing lungscc1084_resized.jpeg : [Errno 2] No such file or directory: 'lungscc1084_resized.jpeg'\n",
      "Exception occured when removing lungscc1591_resized.jpeg : [Errno 2] No such file or directory: 'lungscc1591_resized.jpeg'\n",
      "Exception occured when removing lungscc281_resized.jpeg : [Errno 2] No such file or directory: 'lungscc281_resized.jpeg'\n",
      "Exception occured when removing lungscc19_resized.jpeg : [Errno 2] No such file or directory: 'lungscc19_resized.jpeg'\n",
      "Exception occured when removing lungscc1968_resized.jpeg : [Errno 2] No such file or directory: 'lungscc1968_resized.jpeg'\n",
      "Exception occured when removing lungscc995_resized.jpeg : [Errno 2] No such file or directory: 'lungscc995_resized.jpeg'\n",
      "Exception occured when removing lungscc2000_resized.jpeg : [Errno 2] No such file or directory: 'lungscc2000_resized.jpeg'\n",
      "Exception occured when removing lungscc1786_resized.jpeg : [Errno 2] No such file or directory: 'lungscc1786_resized.jpeg'\n",
      "Exception occured when removing lungscc429_resized.jpeg : [Errno 2] No such file or directory: 'lungscc429_resized.jpeg'\n",
      "Exception occured when removing lungscc1339_resized.jpeg : [Errno 2] No such file or directory: 'lungscc1339_resized.jpeg'\n",
      "Exception occured when removing lungscc1293_resized.jpeg : [Errno 2] No such file or directory: 'lungscc1293_resized.jpeg'\n",
      "Exception occured when removing lungscc1769_resized.jpeg : [Errno 2] No such file or directory: 'lungscc1769_resized.jpeg'\n",
      "Exception occured when removing lungscc583_resized.jpeg : [Errno 2] No such file or directory: 'lungscc583_resized.jpeg'\n",
      "Exception occured when removing lungscc350_resized.jpeg : [Errno 2] No such file or directory: 'lungscc350_resized.jpeg'\n",
      "Exception occured when removing lungscc1440_resized.jpeg : [Errno 2] No such file or directory: 'lungscc1440_resized.jpeg'\n",
      "Exception occured when removing lungscc700_resized.jpeg : [Errno 2] No such file or directory: 'lungscc700_resized.jpeg'\n",
      "Exception occured when removing lungscc1010_resized.jpeg : [Errno 2] No such file or directory: 'lungscc1010_resized.jpeg'\n",
      "Exception occured when removing lungscc62_resized.jpeg : [Errno 2] No such file or directory: 'lungscc62_resized.jpeg'\n",
      "Exception occured when removing lungscc1913_resized.jpeg : [Errno 2] No such file or directory: 'lungscc1913_resized.jpeg'\n",
      "Exception occured when removing lungscc1856_resized.jpeg : [Errno 2] No such file or directory: 'lungscc1856_resized.jpeg'\n",
      "Exception occured when removing lungscc1505_resized.jpeg : [Errno 2] No such file or directory: 'lungscc1505_resized.jpeg'\n",
      "Exception occured when removing lungscc215_resized.jpeg : [Errno 2] No such file or directory: 'lungscc215_resized.jpeg'\n",
      "Exception occured when removing lungscc1155_resized.jpeg : [Errno 2] No such file or directory: 'lungscc1155_resized.jpeg'\n",
      "Exception occured when removing lungscc645_resized.jpeg : [Errno 2] No such file or directory: 'lungscc645_resized.jpeg'\n",
      "Exception occured when removing lungscc1381_resized.jpeg : [Errno 2] No such file or directory: 'lungscc1381_resized.jpeg'\n",
      "Exception occured when removing lungscc491_resized.jpeg : [Errno 2] No such file or directory: 'lungscc491_resized.jpeg'\n",
      "Exception occured when removing lungscc868_resized.jpeg : [Errno 2] No such file or directory: 'lungscc868_resized.jpeg'\n",
      "Exception occured when removing lungscc887_resized.jpeg : [Errno 2] No such file or directory: 'lungscc887_resized.jpeg'\n",
      "Exception occured when removing lungscc184_resized.jpeg : [Errno 2] No such file or directory: 'lungscc184_resized.jpeg'\n",
      "Exception occured when removing lungscc1694_resized.jpeg : [Errno 2] No such file or directory: 'lungscc1694_resized.jpeg'\n",
      "Exception occured when removing lungscc1944_resized.jpeg : [Errno 2] No such file or directory: 'lungscc1944_resized.jpeg'\n",
      "Exception occured when removing lungscc35_resized.jpeg : [Errno 2] No such file or directory: 'lungscc35_resized.jpeg'\n",
      "Exception occured when removing lungscc1047_resized.jpeg : [Errno 2] No such file or directory: 'lungscc1047_resized.jpeg'\n",
      "Exception occured when removing lungscc757_resized.jpeg : [Errno 2] No such file or directory: 'lungscc757_resized.jpeg'\n",
      "Exception occured when removing lungscc1417_resized.jpeg : [Errno 2] No such file or directory: 'lungscc1417_resized.jpeg'\n",
      "Exception occured when removing lungscc307_resized.jpeg : [Errno 2] No such file or directory: 'lungscc307_resized.jpeg'\n",
      "Exception occured when removing lungscc612_resized.jpeg : [Errno 2] No such file or directory: 'lungscc612_resized.jpeg'\n",
      "Exception occured when removing lungscc1102_resized.jpeg : [Errno 2] No such file or directory: 'lungscc1102_resized.jpeg'\n",
      "Exception occured when removing lungscc242_resized.jpeg : [Errno 2] No such file or directory: 'lungscc242_resized.jpeg'\n",
      "Exception occured when removing lungscc8_resized.jpeg : [Errno 2] No such file or directory: 'lungscc8_resized.jpeg'\n",
      "Exception occured when removing lungscc1552_resized.jpeg : [Errno 2] No such file or directory: 'lungscc1552_resized.jpeg'\n",
      "Exception occured when removing lungscc1801_resized.jpeg : [Errno 2] No such file or directory: 'lungscc1801_resized.jpeg'\n",
      "Exception occured when removing lungscc487_resized.jpeg : [Errno 2] No such file or directory: 'lungscc487_resized.jpeg'\n",
      "Exception occured when removing lungscc1397_resized.jpeg : [Errno 2] No such file or directory: 'lungscc1397_resized.jpeg'\n",
      "Exception occured when removing lungscc468_resized.jpeg : [Errno 2] No such file or directory: 'lungscc468_resized.jpeg'\n",
      "Exception occured when removing lungscc1682_resized.jpeg : [Errno 2] No such file or directory: 'lungscc1682_resized.jpeg'\n",
      "Exception occured when removing lungscc192_resized.jpeg : [Errno 2] No such file or directory: 'lungscc192_resized.jpeg'\n",
      "Exception occured when removing lungscc1378_resized.jpeg : [Errno 2] No such file or directory: 'lungscc1378_resized.jpeg'\n",
      "Exception occured when removing lungscc1728_resized.jpeg : [Errno 2] No such file or directory: 'lungscc1728_resized.jpeg'\n",
      "Exception occured when removing lungscc891_resized.jpeg : [Errno 2] No such file or directory: 'lungscc891_resized.jpeg'\n",
      "Exception occured when removing lungscc311_resized.jpeg : [Errno 2] No such file or directory: 'lungscc311_resized.jpeg'\n",
      "Exception occured when removing lungscc1401_resized.jpeg : [Errno 2] No such file or directory: 'lungscc1401_resized.jpeg'\n",
      "Exception occured when removing lungscc741_resized.jpeg : [Errno 2] No such file or directory: 'lungscc741_resized.jpeg'\n",
      "Exception occured when removing lungscc1051_resized.jpeg : [Errno 2] No such file or directory: 'lungscc1051_resized.jpeg'\n",
      "Exception occured when removing lungscc23_resized.jpeg : [Errno 2] No such file or directory: 'lungscc23_resized.jpeg'\n",
      "Exception occured when removing lungscc1952_resized.jpeg : [Errno 2] No such file or directory: 'lungscc1952_resized.jpeg'\n",
      "Exception occured when removing lungscc1817_resized.jpeg : [Errno 2] No such file or directory: 'lungscc1817_resized.jpeg'\n",
      "Exception occured when removing lungscc1544_resized.jpeg : [Errno 2] No such file or directory: 'lungscc1544_resized.jpeg'\n",
      "Exception occured when removing lungscc254_resized.jpeg : [Errno 2] No such file or directory: 'lungscc254_resized.jpeg'\n",
      "Exception occured when removing lungscc1114_resized.jpeg : [Errno 2] No such file or directory: 'lungscc1114_resized.jpeg'\n",
      "Exception occured when removing lungscc604_resized.jpeg : [Errno 2] No such file or directory: 'lungscc604_resized.jpeg'\n",
      "Exception occured when removing lungscc1790_resized.jpeg : [Errno 2] No such file or directory: 'lungscc1790_resized.jpeg'\n",
      "Exception occured when removing lungscc829_resized.jpeg : [Errno 2] No such file or directory: 'lungscc829_resized.jpeg'\n",
      "Exception occured when removing lungscc983_resized.jpeg : [Errno 2] No such file or directory: 'lungscc983_resized.jpeg'\n",
      "Exception occured when removing lungscc595_resized.jpeg : [Errno 2] No such file or directory: 'lungscc595_resized.jpeg'\n",
      "Exception occured when removing lungscc1285_resized.jpeg : [Errno 2] No such file or directory: 'lungscc1285_resized.jpeg'\n",
      "Exception occured when removing lungscc1905_resized.jpeg : [Errno 2] No such file or directory: 'lungscc1905_resized.jpeg'\n",
      "Exception occured when removing lungscc74_resized.jpeg : [Errno 2] No such file or directory: 'lungscc74_resized.jpeg'\n",
      "Exception occured when removing lungscc1006_resized.jpeg : [Errno 2] No such file or directory: 'lungscc1006_resized.jpeg'\n",
      "Exception occured when removing lungscc716_resized.jpeg : [Errno 2] No such file or directory: 'lungscc716_resized.jpeg'\n",
      "Exception occured when removing lungscc1456_resized.jpeg : [Errno 2] No such file or directory: 'lungscc1456_resized.jpeg'\n",
      "Exception occured when removing lungscc346_resized.jpeg : [Errno 2] No such file or directory: 'lungscc346_resized.jpeg'\n",
      "Exception occured when removing lungscc653_resized.jpeg : [Errno 2] No such file or directory: 'lungscc653_resized.jpeg'\n",
      "Exception occured when removing lungscc1143_resized.jpeg : [Errno 2] No such file or directory: 'lungscc1143_resized.jpeg'\n",
      "Exception occured when removing lungscc203_resized.jpeg : [Errno 2] No such file or directory: 'lungscc203_resized.jpeg'\n",
      "Current progress : 6000/6002\n",
      "Exception occured when removing lungscc1513_resized.jpeg : [Errno 2] No such file or directory: 'lungscc1513_resized.jpeg'\n",
      "Exception occured when removing lungscc1840_resized.jpeg : [Errno 2] No such file or directory: 'lungscc1840_resized.jpeg'\n"
     ]
    }
   ],
   "source": [
    "rootDir = \"/Users/barnatasa/Desktop/Màster_Bioinformàtica/TFM/lung_colon_image_set/train\"\n",
    "directories = ['aca', 'n', 'scc']\n",
    "\n",
    "number_files = 0\n",
    "\n",
    "\n",
    "progress = 0\n",
    "\n",
    "for directory in directories:   \n",
    "    folderPath = rootDir + '/' + directory + '/'\n",
    "    filelist = os.listdir(folderPath) \n",
    "    number_files += len(filelist)\n",
    "    print('Folder: {}'.format(folderPath))\n",
    "    \n",
    "    for fname in os.listdir(folderPath):\n",
    "\n",
    "       \n",
    "        try:\n",
    "            resized_image_name = resize(fname, folderPath)\n",
    "            equalized_image_name = equalize_image(resized_image_name, folderPath)\n",
    "        except Exception as e:\n",
    "            print('Following exception occured during the processing of {}: {}'.format(fname, str(e)))\n",
    "\n",
    "   \n",
    "        try:\n",
    "            os.remove(folderPath + fname)\n",
    "        except Exception as e:\n",
    "            print('Exception occured when removing {} : {}'.format(fname, str(e)))\n",
    "        try:\n",
    "            os.remove(resized_image_name)\n",
    "        except Exception as e:\n",
    "            print('Exception occured when removing {} : {}'.format(resized_image_name, str(e)))\n",
    "\n",
    "        progress += 1\n",
    "\n",
    "        if progress % 100 == 0:\n",
    "            print('Current progress : {}/{}'.format(str(progress), str(number_files)))"
   ]
  },
  {
   "cell_type": "code",
   "execution_count": 1,
   "metadata": {},
   "outputs": [],
   "source": [
    "\n",
    "import os\n",
    "import pandas as pd\n",
    "import numpy as np\n",
    "np.random.seed(42)\n",
    "from PIL import Image\n",
    "from scipy.stats import randint\n",
    "\n",
    "from sklearn.model_selection import train_test_split\n",
    "from sklearn.utils import shuffle\n",
    "from keras.models import Sequential\n",
    "from keras.layers import Dense, Dropout, Activation, Flatten \n",
    "from keras.layers import Convolution2D, MaxPooling2D \n",
    "from keras.utils import np_utils \n",
    "from keras.utils import normalize"
   ]
  },
  {
   "cell_type": "code",
   "execution_count": 2,
   "metadata": {},
   "outputs": [],
   "source": [
    "def label_encoder(key):\n",
    "    label_mapping = {\n",
    "        \"aca\" : \"1\",\n",
    "        \"n\" : \"2\",\n",
    "        \"scc\" : \"3\",\n",
    "    }\n",
    "    return int(label_mapping[key])"
   ]
  },
  {
   "cell_type": "code",
   "execution_count": 3,
   "metadata": {},
   "outputs": [
    {
     "output_type": "stream",
     "name": "stdout",
     "text": [
      "Folder: /Users/barnatasa/Desktop/Màster_Bioinformàtica/TFM/lung_colon_image_set/train/aca/\n",
      "Folder: /Users/barnatasa/Desktop/Màster_Bioinformàtica/TFM/lung_colon_image_set/train/n/\n",
      "Folder: /Users/barnatasa/Desktop/Màster_Bioinformàtica/TFM/lung_colon_image_set/train/scc/\n"
     ]
    }
   ],
   "source": [
    "rootDir = \"/Users/barnatasa/Desktop/Màster_Bioinformàtica/TFM/lung_colon_image_set/train\"\n",
    "directories = ['aca', 'n', 'scc']\n",
    "\n",
    "\n",
    "df = pd.DataFrame()\n",
    "category = [] \n",
    "pixel_array = [] \n",
    "\n",
    "for directory in directories:   \n",
    "    folderPath = rootDir + '/' + directory + '/'\n",
    "    print('Folder: {}'.format(folderPath))\n",
    "    for fname in os.listdir(folderPath):\n",
    "        if fname.endswith('resized_equalized.jpeg'):\n",
    "            im = Image.open(folderPath + fname)\n",
    "            im_array = np.array(im, dtype=float)\n",
    "            \n",
    "            category.append(label_encoder(directory))\n",
    "            pixel_array.append(im_array)\n",
    "\n",
    "pd_dict = {\n",
    "    'pixel_array' : pixel_array,\n",
    "    'category' : category,\n",
    "}\n",
    "df = pd.DataFrame(pd_dict)\n",
    "df['category'] = pd.to_numeric(df['category'])\n",
    "df = shuffle(df)"
   ]
  },
  {
   "cell_type": "code",
   "execution_count": 4,
   "metadata": {},
   "outputs": [
    {
     "output_type": "stream",
     "name": "stdout",
     "text": [
      "(6000, 2)\n<class 'pandas.core.frame.DataFrame'>\nInt64Index: 6000 entries, 1782 to 860\nData columns (total 2 columns):\n #   Column       Non-Null Count  Dtype \n---  ------       --------------  ----- \n 0   pixel_array  6000 non-null   object\n 1   category     6000 non-null   int64 \ndtypes: int64(1), object(1)\nmemory usage: 140.6+ KB\n"
     ]
    },
    {
     "output_type": "execute_result",
     "data": {
      "text/plain": [
       "                                            pixel_array  category\n",
       "1782  [[[78.0, 113.0, 106.0], [95.0, 126.0, 128.0], ...         1\n",
       "3917  [[[47.0, 44.0, 27.0], [42.0, 25.0, 80.0], [165...         2\n",
       "221   [[[136.0, 127.0, 182.0], [162.0, 154.0, 203.0]...         1\n",
       "2135  [[[209.0, 194.0, 235.0], [203.0, 158.0, 189.0]...         2\n",
       "5224  [[[114.0, 126.0, 104.0], [166.0, 177.0, 163.0]...         3"
      ],
      "text/html": "<div>\n<style scoped>\n    .dataframe tbody tr th:only-of-type {\n        vertical-align: middle;\n    }\n\n    .dataframe tbody tr th {\n        vertical-align: top;\n    }\n\n    .dataframe thead th {\n        text-align: right;\n    }\n</style>\n<table border=\"1\" class=\"dataframe\">\n  <thead>\n    <tr style=\"text-align: right;\">\n      <th></th>\n      <th>pixel_array</th>\n      <th>category</th>\n    </tr>\n  </thead>\n  <tbody>\n    <tr>\n      <th>1782</th>\n      <td>[[[78.0, 113.0, 106.0], [95.0, 126.0, 128.0], ...</td>\n      <td>1</td>\n    </tr>\n    <tr>\n      <th>3917</th>\n      <td>[[[47.0, 44.0, 27.0], [42.0, 25.0, 80.0], [165...</td>\n      <td>2</td>\n    </tr>\n    <tr>\n      <th>221</th>\n      <td>[[[136.0, 127.0, 182.0], [162.0, 154.0, 203.0]...</td>\n      <td>1</td>\n    </tr>\n    <tr>\n      <th>2135</th>\n      <td>[[[209.0, 194.0, 235.0], [203.0, 158.0, 189.0]...</td>\n      <td>2</td>\n    </tr>\n    <tr>\n      <th>5224</th>\n      <td>[[[114.0, 126.0, 104.0], [166.0, 177.0, 163.0]...</td>\n      <td>3</td>\n    </tr>\n  </tbody>\n</table>\n</div>"
     },
     "metadata": {},
     "execution_count": 4
    }
   ],
   "source": [
    "print(df.shape)\n",
    "df.info()\n",
    "df.head()"
   ]
  },
  {
   "cell_type": "code",
   "execution_count": 5,
   "metadata": {},
   "outputs": [],
   "source": [
    "X_train, X_test, y_train, y_test = train_test_split(df['pixel_array'].values.tolist(),\n",
    "                                                    df['category'].values.tolist(),\n",
    "                                                    test_size = 0.2,\n",
    "                                                    random_state=42,\n",
    "                                                    stratify=df['category'])\n",
    "X_train = np.array(X_train)\n",
    "X_test = np.array(X_test)\n",
    "y_train = np.array(y_train)\n",
    "y_test = np.array(y_test)"
   ]
  },
  {
   "cell_type": "code",
   "execution_count": 6,
   "metadata": {},
   "outputs": [
    {
     "output_type": "stream",
     "name": "stdout",
     "text": [
      "(4800, 128, 128, 3)\n(1200, 128, 128, 3)\n(4800,)\n(1200,)\n"
     ]
    }
   ],
   "source": [
    "print(X_train.shape)\n",
    "print(X_test.shape)\n",
    "print(y_train.shape)\n",
    "print(y_test.shape)"
   ]
  },
  {
   "cell_type": "code",
   "execution_count": 7,
   "metadata": {},
   "outputs": [],
   "source": [
    "X_train = X_train.reshape(X_train.shape[0], X_train.shape[3], X_train.shape[1], X_train.shape[2])\n",
    "X_test = X_test.reshape(X_test.shape[0], X_test.shape[3], X_test.shape[1], X_test.shape[2])"
   ]
  },
  {
   "cell_type": "code",
   "execution_count": 8,
   "metadata": {},
   "outputs": [
    {
     "output_type": "stream",
     "name": "stdout",
     "text": [
      "(4800, 3, 128, 128)\n(1200, 3, 128, 128)\n"
     ]
    }
   ],
   "source": [
    "print(X_train.shape)\n",
    "print(X_test.shape)"
   ]
  },
  {
   "cell_type": "code",
   "execution_count": 9,
   "metadata": {},
   "outputs": [],
   "source": [
    "X_train = X_train.astype('float32')\n",
    "X_test = X_test.astype('float32')\n",
    "X_train = normalize(X_train)\n",
    "X_test = normalize(X_test)"
   ]
  },
  {
   "cell_type": "code",
   "execution_count": 10,
   "metadata": {},
   "outputs": [
    {
     "output_type": "stream",
     "name": "stdout",
     "text": [
      "(4800, 3)\nimage 1: [0. 0. 1.]\nimage 2: [0. 0. 1.]\nimage 3: [0. 1. 0.]\nimage 4: [1. 0. 0.]\nimage 5: [0. 0. 1.]\nimage 6: [1. 0. 0.]\nimage 7: [0. 1. 0.]\nimage 8: [1. 0. 0.]\nimage 9: [0. 0. 1.]\nimage 10: [0. 0. 1.]\n"
     ]
    }
   ],
   "source": [
    "Y_train = np_utils.to_categorical(y_train, 4)[:,1:]\n",
    "Y_test = np_utils.to_categorical(y_test, 4)[:,1:]\n",
    "print(Y_train.shape)\n",
    "for i in range(0,10):\n",
    "    print('image ' + str(i+1) + ': ' + str(Y_train[i]))"
   ]
  },
  {
   "cell_type": "code",
   "execution_count": 49,
   "metadata": {},
   "outputs": [],
   "source": [
    "model = Sequential()"
   ]
  },
  {
   "cell_type": "code",
   "execution_count": 50,
   "metadata": {},
   "outputs": [],
   "source": [
    "from keras.constraints import maxnorm\n",
    "\n",
    "\n",
    "model.add(Convolution2D(32, 1, 1, activation='relu', input_shape=(3,128,128)))\n",
    "\n",
    "model.add(Convolution2D(32, 1, 1, activation='relu'))\n",
    "model.add(MaxPooling2D(pool_size=(1,1)))\n",
    "model.add(Dropout(0.25)) \n",
    "\n",
    "model.add(Flatten())\n",
    "model.add(Dense(128, activation='relu', kernel_constraint=maxnorm(2)))\n",
    "model.add(Dropout(0.5))\n",
    "\n",
    "model.add(Dense(3, activation='softmax'))"
   ]
  },
  {
   "cell_type": "code",
   "execution_count": 51,
   "metadata": {},
   "outputs": [
    {
     "output_type": "stream",
     "name": "stdout",
     "text": [
      "(None, 3, 128, 128)\n(None, 3)\n"
     ]
    }
   ],
   "source": [
    "print(model.input_shape)\n",
    "print(model.output_shape)"
   ]
  },
  {
   "cell_type": "code",
   "execution_count": 52,
   "metadata": {},
   "outputs": [],
   "source": [
    "model.compile(loss='categorical_crossentropy',\n",
    "              optimizer='adam',\n",
    "              metrics=['accuracy'])"
   ]
  },
  {
   "cell_type": "code",
   "execution_count": 53,
   "metadata": {},
   "outputs": [
    {
     "output_type": "stream",
     "name": "stdout",
     "text": [
      "Epoch 1/20\n",
      "135/135 [==============================] - 4s 23ms/step - loss: 1.0867 - accuracy: 0.4074 - val_loss: 0.7666 - val_accuracy: 0.7375\n",
      "Epoch 2/20\n",
      "135/135 [==============================] - 3s 22ms/step - loss: 0.7470 - accuracy: 0.6843 - val_loss: 0.6229 - val_accuracy: 0.7771\n",
      "Epoch 3/20\n",
      "135/135 [==============================] - 3s 22ms/step - loss: 0.5951 - accuracy: 0.7548 - val_loss: 0.5499 - val_accuracy: 0.7792\n",
      "Epoch 4/20\n",
      "135/135 [==============================] - 3s 22ms/step - loss: 0.5285 - accuracy: 0.7759 - val_loss: 0.5414 - val_accuracy: 0.7875\n",
      "Epoch 5/20\n",
      "135/135 [==============================] - 3s 22ms/step - loss: 0.4751 - accuracy: 0.7951 - val_loss: 0.4679 - val_accuracy: 0.7979\n",
      "Epoch 6/20\n",
      "135/135 [==============================] - 3s 22ms/step - loss: 0.4489 - accuracy: 0.8181 - val_loss: 0.4934 - val_accuracy: 0.7646\n",
      "Epoch 7/20\n",
      "135/135 [==============================] - 3s 22ms/step - loss: 0.4362 - accuracy: 0.8148 - val_loss: 0.4648 - val_accuracy: 0.7812\n",
      "Epoch 8/20\n",
      "135/135 [==============================] - 3s 22ms/step - loss: 0.3915 - accuracy: 0.8374 - val_loss: 0.4237 - val_accuracy: 0.7979\n",
      "Epoch 9/20\n",
      "135/135 [==============================] - 3s 22ms/step - loss: 0.3872 - accuracy: 0.8394 - val_loss: 0.4000 - val_accuracy: 0.8208\n",
      "Epoch 10/20\n",
      "135/135 [==============================] - 3s 22ms/step - loss: 0.3534 - accuracy: 0.8475 - val_loss: 0.4033 - val_accuracy: 0.8062\n",
      "Epoch 11/20\n",
      "135/135 [==============================] - 3s 22ms/step - loss: 0.3284 - accuracy: 0.8646 - val_loss: 0.3911 - val_accuracy: 0.8125\n",
      "Epoch 12/20\n",
      "135/135 [==============================] - 3s 22ms/step - loss: 0.3499 - accuracy: 0.8491 - val_loss: 0.4465 - val_accuracy: 0.8125\n",
      "Epoch 13/20\n",
      "135/135 [==============================] - 3s 22ms/step - loss: 0.3133 - accuracy: 0.8686 - val_loss: 0.4096 - val_accuracy: 0.8354\n",
      "Epoch 14/20\n",
      "135/135 [==============================] - 3s 22ms/step - loss: 0.3176 - accuracy: 0.8656 - val_loss: 0.3962 - val_accuracy: 0.8146\n",
      "Epoch 15/20\n",
      "135/135 [==============================] - 3s 22ms/step - loss: 0.2941 - accuracy: 0.8757 - val_loss: 0.3774 - val_accuracy: 0.8271\n",
      "Epoch 16/20\n",
      "135/135 [==============================] - 3s 22ms/step - loss: 0.2733 - accuracy: 0.8914 - val_loss: 0.4066 - val_accuracy: 0.8062\n",
      "Epoch 17/20\n",
      "135/135 [==============================] - 3s 22ms/step - loss: 0.2765 - accuracy: 0.8893 - val_loss: 0.3692 - val_accuracy: 0.8521\n",
      "Epoch 18/20\n",
      "135/135 [==============================] - 3s 23ms/step - loss: 0.2745 - accuracy: 0.8872 - val_loss: 0.3963 - val_accuracy: 0.8333\n",
      "Epoch 19/20\n",
      "135/135 [==============================] - 3s 23ms/step - loss: 0.2838 - accuracy: 0.8797 - val_loss: 0.3952 - val_accuracy: 0.8333\n",
      "Epoch 20/20\n",
      "135/135 [==============================] - 3s 22ms/step - loss: 0.2655 - accuracy: 0.8923 - val_loss: 0.3824 - val_accuracy: 0.8146\n"
     ]
    },
    {
     "output_type": "execute_result",
     "data": {
      "text/plain": [
       "<tensorflow.python.keras.callbacks.History at 0x7f9c9d211790>"
      ]
     },
     "metadata": {},
     "execution_count": 53
    }
   ],
   "source": [
    "model.fit(X_train, Y_train, epochs=20, validation_split=0.1)"
   ]
  },
  {
   "cell_type": "code",
   "execution_count": 54,
   "metadata": {},
   "outputs": [
    {
     "output_type": "stream",
     "name": "stdout",
     "text": [
      "38/38 [==============================] - 0s 4ms/step - loss: 0.3578 - accuracy: 0.8383\n",
      "['loss', 'accuracy']\n",
      "0.3578004837036133 0.8383333086967468\n"
     ]
    }
   ],
   "source": [
    "val_loss, val_acc = model.evaluate(X_test, Y_test)\n",
    "print(model.metrics_names)\n",
    "print(val_loss, val_acc)"
   ]
  },
  {
   "cell_type": "code",
   "execution_count": 55,
   "metadata": {},
   "outputs": [
    {
     "output_type": "stream",
     "name": "stdout",
     "text": [
      "INFO:tensorflow:Assets written to: gear_classifier_4.model/assets\n"
     ]
    }
   ],
   "source": [
    "model.save('gear_classifier_4.model')"
   ]
  },
  {
   "cell_type": "code",
   "execution_count": 59,
   "metadata": {},
   "outputs": [],
   "source": [
    "from keras.models import load_model\n",
    "from sklearn import metrics\n",
    "from sklearn.metrics import confusion_matrix\n",
    "model = load_model('gear_classifier_4.model')\n",
    "predictions = model.predict(X_test)\n",
    "y_pred = (predictions > 0.5)\n"
   ]
  },
  {
   "cell_type": "code",
   "execution_count": 60,
   "metadata": {},
   "outputs": [],
   "source": [
    "a = []\n",
    "\n",
    "for i in y_test:\n",
    "    if i == 1:\n",
    "        a.append([1,0,0])\n",
    "    elif i == 2:\n",
    "        a.append([0,1,0])\n",
    "    else:\n",
    "        a.append([0,0,1])\n"
   ]
  },
  {
   "cell_type": "code",
   "execution_count": 61,
   "metadata": {},
   "outputs": [
    {
     "output_type": "execute_result",
     "data": {
      "text/plain": [
       "array([[[672,  44],\n",
       "        [128, 356]],\n",
       "\n",
       "       [[788,  34],\n",
       "        [ 12, 366]],\n",
       "\n",
       "       [[754, 121],\n",
       "        [ 46, 279]]])"
      ]
     },
     "metadata": {},
     "execution_count": 61
    }
   ],
   "source": [
    "import numpy as np\n",
    "from sklearn.metrics import multilabel_confusion_matrix\n",
    "multilabel_confusion_matrix(y_pred.astype(int), a)"
   ]
  }
 ]
}